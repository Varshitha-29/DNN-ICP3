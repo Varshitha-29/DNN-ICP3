{
  "nbformat": 4,
  "nbformat_minor": 0,
  "metadata": {
    "colab": {
      "provenance": []
    },
    "kernelspec": {
      "name": "python3",
      "display_name": "Python 3"
    },
    "language_info": {
      "name": "python"
    }
  },
  "cells": [
    {
      "cell_type": "code",
      "source": [
        "#Employee Class\n",
        "class Employee:\n",
        "    num_of_employees = 0\n",
        "\n",
        "    #initializing the attributes\n",
        "    def __init__(self, name, family, salary, department):\n",
        "        self.name = name\n",
        "        self.family = family\n",
        "        self.salary = salary\n",
        "        self.department = department\n",
        "        Employee.num_of_employees += 1\n",
        "\n",
        "    #Average Salary Method\n",
        "    def averageSalary(self, employees):\n",
        "        total_salary = sum(emp.salary for emp in employees)\n",
        "        return total_salary / len(employees)\n",
        "#Full Time Employee Class - Super Class\n",
        "class FulltimeEmployee(Employee):\n",
        "    def __init__(self, name, family, salary, department, employment_type):\n",
        "        super().__init__(name, family, salary, department)\n",
        "        self.employment_type = employment_type\n",
        "\n",
        "# Instances of Employee class\n",
        "employee1 = Employee(\"Swathi\", \"Kothi\", 50000, \"Senior Software\")\n",
        "employee2 = Employee(\"Ashwini\", \"Alakuntla\", 80000, \"Manager\")\n",
        "\n",
        "# Instances of FulltimeEmployee class\n",
        "fulltime1 = FulltimeEmployee(\"Aishwarya\", \"Tagili\", 50000, \"Engineering\", \"FullTime\")\n",
        "fulltime2 = FulltimeEmployee(\"Sofeen\", \"Firdouse\", 60000, \"Marketing\", \"PartTime\")\n",
        "\n",
        "# Call member functions\n",
        "employees = [employee1, employee2, fulltime1, fulltime2]\n",
        "avgSalary = employee1.averageSalary(employees)\n",
        "\n",
        "print(\"Total Employees:\", Employee.num_of_employees)\n",
        "print(\"Average Salary:\", avgSalary)"
      ],
      "metadata": {
        "colab": {
          "base_uri": "https://localhost:8080/"
        },
        "id": "-ey-WlzLrIaD",
        "outputId": "270d917d-6851-48d6-ebaa-484036c0fdf7"
      },
      "execution_count": 14,
      "outputs": [
        {
          "output_type": "stream",
          "name": "stdout",
          "text": [
            "Total Employees: 4\n",
            "Average Salary: 60000.0\n"
          ]
        }
      ]
    },
    {
      "cell_type": "code",
      "execution_count": 15,
      "metadata": {
        "colab": {
          "base_uri": "https://localhost:8080/"
        },
        "id": "RbJB1ltchxcx",
        "outputId": "60eee976-aafb-40bd-f52b-fe3dd1252485"
      },
      "outputs": [
        {
          "output_type": "stream",
          "name": "stdout",
          "text": [
            "Original Matrix: \n",
            " [[15.98833226  3.84556477 14.89174452 16.14102157 12.76739049]\n",
            " [ 5.13239727  1.5287324   5.08814957 19.9111963   2.57258114]\n",
            " [14.90796478  1.28193073 12.0236144   9.57008444  9.21113231]\n",
            " [17.89600124 14.35826058 14.97391634 15.37898397 13.85301941]]\n",
            "Resultant Matrix: \n",
            " [[15.98833226  3.84556477 14.89174452  0.         12.76739049]\n",
            " [ 5.13239727  1.5287324   5.08814957  0.          2.57258114]\n",
            " [ 0.          1.28193073 12.0236144   9.57008444  9.21113231]\n",
            " [ 0.         14.35826058 14.97391634 15.37898397 13.85301941]]\n"
          ]
        }
      ],
      "source": [
        "import numpy as np\n",
        "#generating a vector\n",
        "vector = np.random.uniform(1, 20, 20)\n",
        "\n",
        "#reshaping the vector into 4 * 5 matrix\n",
        "matrix = vector.reshape(4, 5)\n",
        "\n",
        "print(\"Original Matrix: \\n\",matrix)\n",
        "\n",
        "#finding the index of the max element along axis = 1\n",
        "indices = np.argmax(matrix, axis=1)\n",
        "\n",
        "#Create a range of indices for each row\n",
        "row_indices = np.arange(matrix.shape[0])\n",
        "\n",
        "#Use advanced indexing to replace max values with 0\n",
        "matrix[row_indices, indices] = 0\n",
        "\n",
        "print(\"Resultant Matrix: \\n\",matrix)"
      ]
    }
  ]
}